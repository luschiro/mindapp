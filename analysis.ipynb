{
 "cells": [
  {
   "cell_type": "markdown",
   "metadata": {},
   "source": [
    "# Analysing MINDAT api data\n",
    "---\n",
    "\n",
    "* using our curated ``silver_geomaterials`` table\n",
    "* ETL process is made with scripts available on the scripts folder, and some tests are presented on the ``api_tests.ipynb`` notebook "
   ]
  }
 ],
 "metadata": {
  "language_info": {
   "name": "python"
  }
 },
 "nbformat": 4,
 "nbformat_minor": 2
}
