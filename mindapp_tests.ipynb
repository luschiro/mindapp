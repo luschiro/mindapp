{
 "cells": [
  {
   "cell_type": "markdown",
   "metadata": {},
   "source": [
    "**Imports and Setup**"
   ]
  },
  {
   "cell_type": "code",
   "execution_count": null,
   "metadata": {},
   "outputs": [],
   "source": [
    "import os\n",
    "\n",
    "import numpy as np\n",
    "import pandas as pd\n",
    "import requests\n",
    "import dotenv\n",
    "import json\n",
    "\n",
    "import duckdb\n",
    "\n",
    "# setup\n",
    "API_KEY = dotenv.get_key(\".env\", \"api_min\")\n",
    "\n",
    "# API root entry point\n",
    "MINDAT_API_URL = \"https://api.mindat.org\"\n",
    "\n",
    "# authorization header that must be included with each request.\n",
    "headers = {'Authorization': 'Token ' + API_KEY}\n",
    "\n",
    "# directories\n",
    "DATA_DIR = os.path.join(os.path.abspath('./'), 'data')\n",
    "QUERIES_DIR = os.path.join(os.path.abspath('./'), 'queries')\n",
    "\n",
    "# fixing pandas analyzer\n",
    "duckdb.execute(\"SET GLOBAL pandas_analyze_sample = 100_000\")"
   ]
  },
  {
   "cell_type": "markdown",
   "metadata": {},
   "source": [
    "**Making a simple request**"
   ]
  },
  {
   "cell_type": "code",
   "execution_count": null,
   "metadata": {},
   "outputs": [],
   "source": [
    "\n",
    "# making a request\n",
    "\n",
    "end_point = \"/geomaterials/\"\n",
    "filter_dict = {\n",
    "  'page':1,\n",
    "  'page_size':1000\n",
    "}\n",
    "\n",
    "df_all = pd.DataFrame()\n",
    "interest_cols = ['id','guid','name','colour','entrytype','mindat_formula','occurrence']\n",
    "\n",
    "endpoint = MINDAT_API_URL+end_point\n",
    "print(\"endpoint\", endpoint)\n",
    "response = requests.get(endpoint,params=filter_dict,headers=headers)\n",
    "\n",
    "mineral_list = response.json()['results']\n",
    "df_page = pd.DataFrame.from_dict(mineral_list)\n",
    "df_page[interest_cols][:10]"
   ]
  },
  {
   "cell_type": "markdown",
   "metadata": {},
   "source": [
    "**EXTRACT: Making page requests**"
   ]
  },
  {
   "cell_type": "code",
   "execution_count": null,
   "metadata": {},
   "outputs": [],
   "source": [
    "# making a request\n",
    "\n",
    "endpoint = MINDAT_API_URL + \"/geomaterials/\"\n",
    "# interest_cols = ['id','guid','name','colour','entrytype','mindat_formula','occurrence','crystal_system']\n",
    "\n",
    "df_all = pd.DataFrame()\n",
    "for page in range(1,3):\n",
    "  filter_dict = {\n",
    "    'page': page,\n",
    "    'page_size':1000\n",
    "  }\n",
    "  \n",
    "  response = requests.get(endpoint,params=filter_dict,headers=headers,timeout=5)\n",
    "\n",
    "  try:\n",
    "    mineral_list = response.json()['results']\n",
    "    print('page', page, response)\n",
    "\n",
    "    # data frame handling\n",
    "    df_page = pd.DataFrame.from_dict(mineral_list)\n",
    "    df_all = pd.concat([df_all, df_page])\n",
    "\n",
    "  except Exception as e:\n",
    "    print('Erro ao tentar criar dataframe!', 'pagina', page)\n",
    "\n",
    "df_all.reset_index(inplace=True, drop=True)\n",
    "df_all"
   ]
  },
  {
   "cell_type": "markdown",
   "metadata": {},
   "source": [
    "**LOAD**\n",
    "* loading data into csv file using duckdb"
   ]
  },
  {
   "cell_type": "code",
   "execution_count": null,
   "metadata": {},
   "outputs": [],
   "source": [
    "# creating a duckdb object\n",
    "df_duck = duckdb.from_df(df_all)\n",
    "df_duck.write_csv(os.path.join(DATA_DIR, \"bronze_geomaterials.csv\"), overwrite=True)"
   ]
  },
  {
   "cell_type": "markdown",
   "metadata": {},
   "source": [
    "**bronze_geomaterials**"
   ]
  },
  {
   "cell_type": "code",
   "execution_count": 11,
   "metadata": {},
   "outputs": [
    {
     "data": {
      "text/plain": [
       "┌───────┬─────────────┬──────────────────────┬──────────────────────┬───┬───────────────┬────────┬────────┬───────────┐\n",
       "│  id   │   longid    │         guid         │         name         │ … │ shortcode_ima │ rimin  │ rimax  │ weighting │\n",
       "│ int64 │   varchar   │       varchar        │       varchar        │   │    varchar    │ double │ double │   int64   │\n",
       "├───────┼─────────────┼──────────────────────┼──────────────────────┼───┼───────────────┼────────┼────────┼───────────┤\n",
       "│     1 │ 1:1:1:5     │ 464e5cfa-be77-4568…  │ Abelsonite           │ … │ Abl           │   NULL │   NULL │        13 │\n",
       "│     2 │ 1:1:2:4     │ fb40f3e1-f058-46fe…  │ Abenakiite-(Ce)      │ … │ Abk-Ce        │   NULL │   NULL │        19 │\n",
       "│     3 │ 1:1:3:3     │ 7e270e8f-93b1-419c…  │ Abernathyite         │ … │ Abn           │  1.608 │  1.608 │       103 │\n",
       "│     4 │ 1:1:4:2     │ 7b925f9e-322d-4ad2…  │ Abhurite             │ … │ Abh           │   NULL │   NULL │       134 │\n",
       "│     5 │ 1:1:5:1     │ 8c40e602-73b0-49c8…  │ Ablykite             │ … │ NULL          │   NULL │   NULL │         1 │\n",
       "│     6 │ 1:1:6:0     │ 1d46f167-d1c9-494e…  │ Abraum Salts         │ … │ NULL          │   NULL │   NULL │         1 │\n",
       "│     7 │ 1:1:7:9     │ ba449d79-63ad-4cb6…  │ Abrazite             │ … │ NULL          │   NULL │   NULL │         0 │\n",
       "│     8 │ 1:1:8:8     │ 06e59140-bc5c-4b73…  │ Absite               │ … │ NULL          │   NULL │   NULL │         2 │\n",
       "│     9 │ 1:1:9:7     │ befbce36-2949-4a16…  │ Abswurmbachite       │ … │ Abs           │   NULL │   NULL │         4 │\n",
       "│    10 │ 1:1:10:5    │ 42460b0a-a0f4-4a29…  │ Acanthite            │ … │ Aca           │   NULL │   NULL │     12223 │\n",
       "│     · │    ·        │          ·           │     ·                │ · │  ·            │     ·  │     ·  │         · │\n",
       "│     · │    ·        │          ·           │     ·                │ · │  ·            │     ·  │     ·  │         · │\n",
       "│     · │    ·        │          ·           │     ·                │ · │  ·            │     ·  │     ·  │         · │\n",
       "│ 10270 │ 1:1:10270:2 │ b06d17f6-cde5-4406…  │ Zinc-bearing Acant…  │ … │ NULL          │   NULL │   NULL │         1 │\n",
       "│ 10271 │ 1:1:10271:1 │ 9ec532f4-c4df-4871…  │ Taznite              │ … │ NULL          │   NULL │   NULL │         6 │\n",
       "│ 10272 │ 1:1:10272:0 │ 588198cb-409d-497f…  │ Garnet Group         │ … │ Grt           │   NULL │   NULL │     11350 │\n",
       "│ 10273 │ 1:1:10273:9 │ 82f2cba5-9585-410d…  │ Antimony-bearing C…  │ … │ NULL          │   NULL │   NULL │        14 │\n",
       "│ 10274 │ 1:1:10274:8 │ 2924d137-2772-4961…  │ Jedvabite            │ … │ NULL          │   NULL │   NULL │         0 │\n",
       "│ 10275 │ 1:1:10275:7 │ 2ea6bf6f-cd91-4fd6…  │ Ferrian Platinum     │ … │ NULL          │   NULL │   NULL │         0 │\n",
       "│ 10276 │ 1:1:10276:6 │ 78edaf11-27fe-4dc3…  │ Morozewiczite        │ … │ NULL          │   NULL │   NULL │         0 │\n",
       "│ 10277 │ 1:1:10277:5 │ c26c7a7d-eb4b-470c…  │ Grossular Garnet     │ … │ NULL          │   NULL │   NULL │         0 │\n",
       "│ 10278 │ 1:1:10278:4 │ 52b62acf-7b10-4b08…  │ Andradite Garnet     │ … │ NULL          │   NULL │   NULL │         0 │\n",
       "│ 10279 │ 1:1:10279:3 │ d2cbbabd-357a-4f71…  │ Uvarovite Garnet     │ … │ NULL          │   NULL │   NULL │         0 │\n",
       "├───────┴─────────────┴──────────────────────┴──────────────────────┴───┴───────────────┴────────┴────────┴───────────┤\n",
       "│ ? rows (>9999 rows, 20 shown)                                                                 148 columns (8 shown) │\n",
       "└─────────────────────────────────────────────────────────────────────────────────────────────────────────────────────┘"
      ]
     },
     "execution_count": 11,
     "metadata": {},
     "output_type": "execute_result"
    }
   ],
   "source": [
    "bronze_geomaterials = duckdb.read_csv(os.path.join(DATA_DIR,'bronze_geomaterials.csv'))\n",
    "bronze_geomaterials"
   ]
  },
  {
   "cell_type": "markdown",
   "metadata": {},
   "source": [
    "**silver_geomaterials**"
   ]
  },
  {
   "cell_type": "code",
   "execution_count": 32,
   "metadata": {},
   "outputs": [],
   "source": [
    "with open(os.path.join(QUERIES_DIR,'silver_geomaterials.sql')) as f:\n",
    "  query = f.read()\n",
    "  f.close()\n",
    "\n",
    "silver_geomaterials = duckdb.sql(query)"
   ]
  },
  {
   "cell_type": "code",
   "execution_count": 33,
   "metadata": {},
   "outputs": [],
   "source": [
    "silver_geomaterials.write_csv(os.path.join(DATA_DIR, \"silver_geomaterials.csv\"), overwrite=True)"
   ]
  },
  {
   "cell_type": "markdown",
   "metadata": {},
   "source": [
    "**TRASH**"
   ]
  },
  {
   "cell_type": "code",
   "execution_count": null,
   "metadata": {},
   "outputs": [],
   "source": [
    "# making a request\n",
    "\n",
    "endpoint = MINDAT_API_URL + \"/geomaterials/\"\n",
    "# interest_cols = ['id','guid','name','colour','entrytype','mindat_formula','occurrence','crystal_system']\n",
    "\n",
    "df_teste = pd.DataFrame()\n",
    "\n",
    "filter_dict = {\n",
    "  'page': 49,\n",
    "  'page_size':10\n",
    "}\n",
    "\n",
    "response = requests.get(endpoint,params=filter_dict,headers=headers)\n",
    "\n",
    "try:\n",
    "  mineral_list = response.json()['results']\n",
    "  print('page', filter_dict['page'], response)\n",
    "  \n",
    "  # data frame handling\n",
    "  print(type(mineral_list))\n",
    "  df_teste = pd.DataFrame.from_dict(mineral_list)\n",
    "\n",
    "except Exception as e:\n",
    "  print('Erro ao tentar criar dataframe!', 'pagina', filter_dict['page'])\n",
    "\n",
    "df_teste.reset_index(inplace=True, drop=True)\n",
    "mineral_list[0]"
   ]
  }
 ],
 "metadata": {
  "kernelspec": {
   "display_name": "env_mindapp",
   "language": "python",
   "name": "python3"
  },
  "language_info": {
   "codemirror_mode": {
    "name": "ipython",
    "version": 3
   },
   "file_extension": ".py",
   "mimetype": "text/x-python",
   "name": "python",
   "nbconvert_exporter": "python",
   "pygments_lexer": "ipython3",
   "version": "3.12.4"
  }
 },
 "nbformat": 4,
 "nbformat_minor": 2
}
