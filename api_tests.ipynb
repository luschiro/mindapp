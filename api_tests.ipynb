{
 "cells": [
  {
   "cell_type": "markdown",
   "metadata": {},
   "source": [
    "**Imports and Setup**"
   ]
  },
  {
   "cell_type": "code",
   "execution_count": 1,
   "metadata": {},
   "outputs": [
    {
     "data": {
      "text/plain": [
       "<duckdb.duckdb.DuckDBPyConnection at 0x23bd874f430>"
      ]
     },
     "execution_count": 1,
     "metadata": {},
     "output_type": "execute_result"
    }
   ],
   "source": [
    "import os\n",
    "\n",
    "import numpy as np\n",
    "import pandas as pd\n",
    "import requests\n",
    "import dotenv\n",
    "import json\n",
    "\n",
    "import duckdb\n",
    "\n",
    "# setup\n",
    "API_KEY = dotenv.get_key(\".env\", \"api_min\")\n",
    "\n",
    "# API root entry point\n",
    "MINDAT_API_URL = \"https://api.mindat.org\"\n",
    "\n",
    "# authorization header that must be included with each request.\n",
    "headers = {'Authorization': 'Token ' + API_KEY}\n",
    "\n",
    "# directories\n",
    "DATA_DIR = os.path.join(os.path.abspath('./'), 'data')\n",
    "QUERIES_DIR = os.path.join(os.path.abspath('./'), 'queries')\n",
    "\n",
    "# fixing pandas analyzer\n",
    "duckdb.execute(\"SET GLOBAL pandas_analyze_sample = 100_000\")"
   ]
  },
  {
   "cell_type": "markdown",
   "metadata": {},
   "source": [
    "**Making a simple request**"
   ]
  },
  {
   "cell_type": "code",
   "execution_count": null,
   "metadata": {},
   "outputs": [],
   "source": [
    "# making a request\n",
    "\n",
    "end_point = \"/geomaterials/\"\n",
    "filter_dict = {\n",
    "  'page':1,\n",
    "  'page_size':1000\n",
    "}\n",
    "\n",
    "df_all = pd.DataFrame()\n",
    "interest_cols = ['id','guid','name','colour','entrytype','mindat_formula','occurrence']\n",
    "\n",
    "endpoint = MINDAT_API_URL+end_point\n",
    "print(\"endpoint\", endpoint)\n",
    "response = requests.get(endpoint,params=filter_dict,headers=headers)\n",
    "\n",
    "mineral_list = response.json()['results']\n",
    "df_page = pd.DataFrame.from_dict(mineral_list)\n",
    "df_page[interest_cols][:10]"
   ]
  },
  {
   "cell_type": "markdown",
   "metadata": {},
   "source": [
    "**EXTRACT: Making page requests**"
   ]
  },
  {
   "cell_type": "code",
   "execution_count": null,
   "metadata": {},
   "outputs": [],
   "source": [
    "# making a request\n",
    "\n",
    "endpoint = MINDAT_API_URL + \"/geomaterials/\"\n",
    "# interest_cols = ['id','guid','name','colour','entrytype','mindat_formula','occurrence','crystal_system']\n",
    "\n",
    "df_all = pd.DataFrame()\n",
    "for page in range(1,3):\n",
    "  filter_dict = {\n",
    "    'page': page,\n",
    "    'page_size':1000\n",
    "  }\n",
    "  \n",
    "  response = requests.get(endpoint,params=filter_dict,headers=headers,timeout=5)\n",
    "\n",
    "  try:\n",
    "    mineral_list = response.json()['results']\n",
    "    print('page', page, response)\n",
    "\n",
    "    # data frame handling\n",
    "    df_page = pd.DataFrame.from_dict(mineral_list)\n",
    "    df_all = pd.concat([df_all, df_page])\n",
    "\n",
    "  except Exception as e:\n",
    "    print('Erro ao tentar criar dataframe!', 'pagina', page)\n",
    "\n",
    "df_all.reset_index(inplace=True, drop=True)\n",
    "df_all"
   ]
  },
  {
   "cell_type": "markdown",
   "metadata": {},
   "source": [
    "**LOAD**\n",
    "* loading data into csv file using duckdb"
   ]
  },
  {
   "cell_type": "code",
   "execution_count": null,
   "metadata": {},
   "outputs": [],
   "source": [
    "# creating a duckdb object\n",
    "df_duck = duckdb.from_df(df_all)\n",
    "df_duck.write_csv(os.path.join(DATA_DIR, \"bronze_geomaterials.csv\"), overwrite=True)"
   ]
  },
  {
   "cell_type": "markdown",
   "metadata": {},
   "source": [
    "**bronze_geomaterials**"
   ]
  },
  {
   "cell_type": "code",
   "execution_count": 16,
   "metadata": {},
   "outputs": [
    {
     "name": "stdout",
     "output_type": "stream",
     "text": [
      "┌───────┬─────────────┬──────────────────────┬──────────────────────┬───┬───────────────┬────────┬────────┬───────────┐\n",
      "│  id   │   longid    │         guid         │         name         │ … │ shortcode_ima │ rimin  │ rimax  │ weighting │\n",
      "│ int64 │   varchar   │       varchar        │       varchar        │   │    varchar    │ double │ double │   int64   │\n",
      "├───────┼─────────────┼──────────────────────┼──────────────────────┼───┼───────────────┼────────┼────────┼───────────┤\n",
      "│     1 │ 1:1:1:5     │ 464e5cfa-be77-4568…  │ Abelsonite           │ … │ Abl           │   NULL │   NULL │        13 │\n",
      "│     2 │ 1:1:2:4     │ fb40f3e1-f058-46fe…  │ Abenakiite-(Ce)      │ … │ Abk-Ce        │   NULL │   NULL │        19 │\n",
      "│     3 │ 1:1:3:3     │ 7e270e8f-93b1-419c…  │ Abernathyite         │ … │ Abn           │  1.608 │  1.608 │       103 │\n",
      "│     4 │ 1:1:4:2     │ 7b925f9e-322d-4ad2…  │ Abhurite             │ … │ Abh           │   NULL │   NULL │       134 │\n",
      "│     5 │ 1:1:5:1     │ 8c40e602-73b0-49c8…  │ Ablykite             │ … │ NULL          │   NULL │   NULL │         1 │\n",
      "│     6 │ 1:1:6:0     │ 1d46f167-d1c9-494e…  │ Abraum Salts         │ … │ NULL          │   NULL │   NULL │         1 │\n",
      "│     7 │ 1:1:7:9     │ ba449d79-63ad-4cb6…  │ Abrazite             │ … │ NULL          │   NULL │   NULL │         0 │\n",
      "│     8 │ 1:1:8:8     │ 06e59140-bc5c-4b73…  │ Absite               │ … │ NULL          │   NULL │   NULL │         2 │\n",
      "│     9 │ 1:1:9:7     │ befbce36-2949-4a16…  │ Abswurmbachite       │ … │ Abs           │   NULL │   NULL │         4 │\n",
      "│    10 │ 1:1:10:5    │ 42460b0a-a0f4-4a29…  │ Acanthite            │ … │ Aca           │   NULL │   NULL │     12223 │\n",
      "│     · │    ·        │          ·           │     ·                │ · │  ·            │     ·  │     ·  │         · │\n",
      "│     · │    ·        │          ·           │     ·                │ · │  ·            │     ·  │     ·  │         · │\n",
      "│     · │    ·        │          ·           │     ·                │ · │  ·            │     ·  │     ·  │         · │\n",
      "│ 10270 │ 1:1:10270:2 │ b06d17f6-cde5-4406…  │ Zinc-bearing Acant…  │ … │ NULL          │   NULL │   NULL │         1 │\n",
      "│ 10271 │ 1:1:10271:1 │ 9ec532f4-c4df-4871…  │ Taznite              │ … │ NULL          │   NULL │   NULL │         6 │\n",
      "│ 10272 │ 1:1:10272:0 │ 588198cb-409d-497f…  │ Garnet Group         │ … │ Grt           │   NULL │   NULL │     11350 │\n",
      "│ 10273 │ 1:1:10273:9 │ 82f2cba5-9585-410d…  │ Antimony-bearing C…  │ … │ NULL          │   NULL │   NULL │        14 │\n",
      "│ 10274 │ 1:1:10274:8 │ 2924d137-2772-4961…  │ Jedvabite            │ … │ NULL          │   NULL │   NULL │         0 │\n",
      "│ 10275 │ 1:1:10275:7 │ 2ea6bf6f-cd91-4fd6…  │ Ferrian Platinum     │ … │ NULL          │   NULL │   NULL │         0 │\n",
      "│ 10276 │ 1:1:10276:6 │ 78edaf11-27fe-4dc3…  │ Morozewiczite        │ … │ NULL          │   NULL │   NULL │         0 │\n",
      "│ 10277 │ 1:1:10277:5 │ c26c7a7d-eb4b-470c…  │ Grossular Garnet     │ … │ NULL          │   NULL │   NULL │         0 │\n",
      "│ 10278 │ 1:1:10278:4 │ 52b62acf-7b10-4b08…  │ Andradite Garnet     │ … │ NULL          │   NULL │   NULL │         0 │\n",
      "│ 10279 │ 1:1:10279:3 │ d2cbbabd-357a-4f71…  │ Uvarovite Garnet     │ … │ NULL          │   NULL │   NULL │         0 │\n",
      "├───────┴─────────────┴──────────────────────┴──────────────────────┴───┴───────────────┴────────┴────────┴───────────┤\n",
      "│ ? rows (>9999 rows, 20 shown)                                                                 148 columns (8 shown) │\n",
      "└─────────────────────────────────────────────────────────────────────────────────────────────────────────────────────┘\n",
      "\n"
     ]
    }
   ],
   "source": [
    "bronze_geomaterials = duckdb.read_csv(os.path.join(DATA_DIR,'bronze_geomaterials.csv'))\n",
    "bronze_geomaterials.show()"
   ]
  },
  {
   "cell_type": "code",
   "execution_count": 3,
   "metadata": {},
   "outputs": [
    {
     "data": {
      "text/plain": [
       "['id',\n",
       " 'longid',\n",
       " 'guid',\n",
       " 'name',\n",
       " 'updttime',\n",
       " 'mindat_formula',\n",
       " 'mindat_formula_note',\n",
       " 'ima_formula',\n",
       " 'ima_status',\n",
       " 'ima_notes',\n",
       " 'varietyof',\n",
       " 'synid',\n",
       " 'polytypeof',\n",
       " 'groupid',\n",
       " 'entrytype',\n",
       " 'entrytype_text',\n",
       " 'description_short',\n",
       " 'impurities',\n",
       " 'elements',\n",
       " 'sigelements',\n",
       " 'tlform',\n",
       " 'cim',\n",
       " 'occurrence',\n",
       " 'otheroccurrence',\n",
       " 'industrial',\n",
       " 'discovery_year',\n",
       " 'diapheny',\n",
       " 'cleavage',\n",
       " 'parting',\n",
       " 'tenacity',\n",
       " 'colour',\n",
       " 'csmetamict',\n",
       " 'opticalextinction',\n",
       " 'hmin',\n",
       " 'hardtype',\n",
       " 'hmax',\n",
       " 'vhnmin',\n",
       " 'vhnmax',\n",
       " 'vhnerror',\n",
       " 'vhng',\n",
       " 'vhns',\n",
       " 'luminescence',\n",
       " 'lustre',\n",
       " 'lustretype',\n",
       " 'aboutname',\n",
       " 'other',\n",
       " 'streak',\n",
       " 'csystem',\n",
       " 'cclass',\n",
       " 'spacegroup',\n",
       " 'a',\n",
       " 'b',\n",
       " 'c',\n",
       " 'alpha',\n",
       " 'beta',\n",
       " 'gamma',\n",
       " 'aerror',\n",
       " 'berror',\n",
       " 'cerror',\n",
       " 'alphaerror',\n",
       " 'betaerror',\n",
       " 'gammaerror',\n",
       " 'va3',\n",
       " 'z',\n",
       " 'dmeas',\n",
       " 'dmeas2',\n",
       " 'dcalc',\n",
       " 'dmeaserror',\n",
       " 'dcalcerror',\n",
       " 'cleavagetype',\n",
       " 'fracturetype',\n",
       " 'morphology',\n",
       " 'twinning',\n",
       " 'epitaxidescription',\n",
       " 'opticaltype',\n",
       " 'opticalsign',\n",
       " 'opticalalpha',\n",
       " 'opticalbeta',\n",
       " 'opticalgamma',\n",
       " 'opticalomega',\n",
       " 'opticalepsilon',\n",
       " 'opticalalpha2',\n",
       " 'opticalbeta2',\n",
       " 'opticalgamma2',\n",
       " 'opticalepsilon2',\n",
       " 'opticalomega2',\n",
       " 'opticaln',\n",
       " 'opticaln2',\n",
       " 'optical2vcalc',\n",
       " 'optical2vmeasured',\n",
       " 'optical2vcalc2',\n",
       " 'optical2vmeasured2',\n",
       " 'opticalalphaerror',\n",
       " 'opticalbetaerror',\n",
       " 'opticalgammaerror',\n",
       " 'opticalomegaerror',\n",
       " 'opticalepsilonerror',\n",
       " 'opticalnerror',\n",
       " 'optical2vcalcerror',\n",
       " 'optical2vmeasurederror',\n",
       " 'opticaldispersion',\n",
       " 'opticalpleochroism',\n",
       " 'opticalpleochorismdesc',\n",
       " 'opticalbirefringence',\n",
       " 'opticalcomments',\n",
       " 'opticalcolour',\n",
       " 'opticalinternal',\n",
       " 'opticaltropic',\n",
       " 'opticalanisotropism',\n",
       " 'opticalbireflectance',\n",
       " 'opticalr',\n",
       " 'uv',\n",
       " 'ir',\n",
       " 'magnetism',\n",
       " 'type_specimen_store',\n",
       " 'commenthard',\n",
       " 'strunz10ed1',\n",
       " 'strunz10ed2',\n",
       " 'strunz10ed3',\n",
       " 'strunz10ed4',\n",
       " 'dana8ed1',\n",
       " 'dana8ed2',\n",
       " 'dana8ed3',\n",
       " 'dana8ed4',\n",
       " 'thermalbehaviour',\n",
       " 'commentluster',\n",
       " 'commentbreak',\n",
       " 'commentdense',\n",
       " 'commentcrystal',\n",
       " 'commentcolor',\n",
       " 'electrical',\n",
       " 'tranglide',\n",
       " 'nolocadd',\n",
       " 'specdispm',\n",
       " 'spacegroupset',\n",
       " 'approval_year',\n",
       " 'publication_year',\n",
       " 'ima_history',\n",
       " 'rock_parent',\n",
       " 'rock_parent2',\n",
       " 'rock_root',\n",
       " 'rock_bgs_code',\n",
       " 'meteoritical_code',\n",
       " 'key_elements',\n",
       " 'shortcode_ima',\n",
       " 'rimin',\n",
       " 'rimax',\n",
       " 'weighting']"
      ]
     },
     "execution_count": 3,
     "metadata": {},
     "output_type": "execute_result"
    }
   ],
   "source": [
    "bronze_geomaterials.columns"
   ]
  },
  {
   "cell_type": "markdown",
   "metadata": {},
   "source": [
    "**silver_geomaterials**\n",
    "\n",
    "* unsing ``silver_geomaterials.sql`` query to get a treated analytical table."
   ]
  },
  {
   "cell_type": "code",
   "execution_count": 39,
   "metadata": {},
   "outputs": [
    {
     "name": "stdout",
     "output_type": "stream",
     "text": [
      "┌───────────┬─────────────────────────────┬───────────────┬────────────────────────────────────────────────────────────────────┬───────────────────────────────────┬──────────────────────────┬─────────────────┬───────────────────┬───────────────────────────┬─────────────┬─────────────────────┬────────────────────────────────────────────────────────────────────────────────────────────────────────────────────────────────────────────────────────────────────────────────────────────────────────────────────────────────────────────────────────────────────────────────────────────────────────────────────────────────────────────────────────┬───────────────────┐\n",
      "│ idMineral │          descName           │ descEntryType │                             descColour                             │         descMindatFormula         │       descElements       │ descKeyElements │ descCrystalSystem │       descImaStatus       │ idVarietyOf │     dtUpdatedAt     │                                                                                                                                                                     descOccurrence                                                                                                                                                                     │ vlPublicationYear │\n",
      "│   int64   │           varchar           │    varchar    │                              varchar                               │              varchar              │         varchar          │     varchar     │      varchar      │          varchar          │    int64    │      timestamp      │                                                                                                                                                                        varchar                                                                                                                                                                         │       int64       │\n",
      "├───────────┼─────────────────────────────┼───────────────┼────────────────────────────────────────────────────────────────────┼───────────────────────────────────┼──────────────────────────┼─────────────────┼───────────────────┼───────────────────────────┼─────────────┼─────────────────────┼────────────────────────────────────────────────────────────────────────────────────────────────────────────────────────────────────────────────────────────────────────────────────────────────────────────────────────────────────────────────────────────────────────────────────────────────────────────────────────────────────────────────────────┼───────────────────┤\n",
      "│         1 │ abelsonite                  │ mineral       │ pink-purple, dark greyish purple, pale purplish red, reddish brown │ Ni(C31H32N4)                      │ [Ni, N, C, H]            │ ['N', 'Ni']     │ triclinic         │ [APPROVED]                │        NULL │ 2022-08-03 21:27:09 │ mahogany zone oil shale; found in six stratigraphical zones ( m9, m7, m2, l6, l0, and k1); its genesis is connected with unique geochemical conditions of lake uinta; likely formed due to chlorophyll diagenesis; abelsonite's relatively insoluble precursor was likely transported by an aqueous solution towards sediments of favorable lithology. │              1978 │\n",
      "│         2 │ abenakiite-(ce)             │ mineral       │ pale brown                                                         │ Na26Ce6(Si6O18)(PO4)6(CO3)6(SO2)O │ [Ce, Na, Si, O, P, C, S] │ ['Ce']          │ trigonal          │ [APPROVED]                │        NULL │ 2023-09-11 22:14:49 │ in a xenolith of sodalite syenite. a late-stage phase, possibly arising from a metasomatic event associated with emplacement of the nepheline syenite.                                                                                                                                                                                                 │              1994 │\n",
      "│         3 │ abernathyite                │ mineral       │ yellow                                                             │ K(UO2)(AsO4)&middot;3H2O          │ [As, O, K, H, U]         │ ['As', 'U']     │ tetragonal        │ [APPROVED, GRANDFATHERED] │        NULL │ 2024-01-11 10:28:12 │ colorado plateau uranium-vanadium deposit                                                                                                                                                                                                                                                                                                              │              1956 │\n",
      "│         4 │ abhurite                    │ mineral       │ colourless                                                         │ Sn21Cl16(OH)14O6                  │ [Cl, Sn, O, H]           │ ['Cl', 'Sn']    │ trigonal          │ [APPROVED]                │        NULL │ 2023-08-07 12:59:27 │ on the surface of a tin ingot recovered from a ship wrecked possibly 100 years ago.                                                                                                                                                                                                                                                                    │              1977 │\n",
      "│         5 │ ablykite                    │ mineral       │ NULL                                                               │ NULL                              │ NULL                     │ NULL            │ NULL              │ NULL                      │        NULL │ 2008-05-08 18:21:13 │ NULL                                                                                                                                                                                                                                                                                                                                                   │              NULL │\n",
      "│         6 │ abraum salts                │ mineral       │ NULL                                                               │ NULL                              │ NULL                     │ NULL            │ NULL              │ NULL                      │        NULL │ 2017-07-06 15:35:51 │ NULL                                                                                                                                                                                                                                                                                                                                                   │              NULL │\n",
      "│         7 │ abrazite                    │ mineral       │ NULL                                                               │ NULL                              │ NULL                     │ NULL            │ NULL              │ NULL                      │        NULL │ NULL                │ NULL                                                                                                                                                                                                                                                                                                                                                   │              NULL │\n",
      "│         8 │ absite                      │ variety       │ NULL                                                               │ Ti7U2ThO20&middot;5H2O or close   │ [Th, Ti, O, H, U]        │ NULL            │ NULL              │ NULL                      │         754 │ 2007-12-08 18:45:18 │ NULL                                                                                                                                                                                                                                                                                                                                                   │              NULL │\n",
      "│         9 │ abswurmbachite              │ mineral       │ black                                                              │ CuMn(3+)6(SiO4)O8                 │ [Cu, Mn, Si, O]          │ ['Cu']          │ tetragonal        │ [APPROVED]                │        NULL │ 2022-01-16 13:17:54 │ in very low-grade, high pressure metamorphic quartzites                                                                                                                                                                                                                                                                                                │              1991 │\n",
      "│        10 │ acanthite                   │ mineral       │ lead grey, black                                                   │ Ag2S                              │ [Ag, S]                  │ ['Ag']          │ monoclinic        │ [APPROVED, GRANDFATHERED] │        NULL │ 2024-06-30 21:54:01 │ NULL                                                                                                                                                                                                                                                                                                                                                   │              NULL │\n",
      "│         · │     ·                       │    ·          │  ·                                                                 │  ·                                │    ·                     │   ·             │  ·                │  ·                        │           · │          ·          │  ·                                                                                                                                                                                                                                                                                                                                                     │                ·  │\n",
      "│         · │     ·                       │    ·          │  ·                                                                 │  ·                                │    ·                     │   ·             │  ·                │  ·                        │           · │          ·          │  ·                                                                                                                                                                                                                                                                                                                                                     │                ·  │\n",
      "│         · │     ·                       │    ·          │  ·                                                                 │  ·                                │    ·                     │   ·             │  ·                │  ·                        │           · │          ·          │  ·                                                                                                                                                                                                                                                                                                                                                     │                ·  │\n",
      "│     10270 │ zinc-bearing acanthite      │ variety       │ NULL                                                               │ (Ag,Zn)2S                         │ [Ag, Zn, S]              │ ['Ag']          │ NULL              │ NULL                      │          10 │ 2020-06-30 16:35:26 │ NULL                                                                                                                                                                                                                                                                                                                                                   │              NULL │\n",
      "│     10271 │ taznite                     │ variety       │ yellow                                                             │ Pb2Sb2O6O                         │ [Pb, Sb, O]              │ NULL            │ NULL              │ NULL                      │         676 │ 2012-01-16 22:02:30 │ NULL                                                                                                                                                                                                                                                                                                                                                   │              NULL │\n",
      "│     10272 │ garnet group                │ grouplist     │ NULL                                                               │ X3Z2(SiO4)3                       │ [Si, O]                  │ NULL            │ NULL              │ NULL                      │        NULL │ 2024-08-31 20:34:25 │ NULL                                                                                                                                                                                                                                                                                                                                                   │              NULL │\n",
      "│     10273 │ antimony-bearing claudetite │ variety       │ NULL                                                               │ (As,Sb)2O3                        │ [As, Sb, O]              │ ['As']          │ NULL              │ NULL                      │        1060 │ 2022-03-21 17:52:57 │ NULL                                                                                                                                                                                                                                                                                                                                                   │              NULL │\n",
      "│     10274 │ jedvabite                   │ synonym       │ NULL                                                               │ Fe7(Ta,Nb)3                       │ [Fe, Nb, Ta]             │ NULL            │ NULL              │ NULL                      │        NULL │ NULL                │ NULL                                                                                                                                                                                                                                                                                                                                                   │              NULL │\n",
      "│     10275 │ ferrian platinum            │ synonym       │ NULL                                                               │ (Pt,Fe)                           │ [Fe, Pt]                 │ NULL            │ NULL              │ NULL                      │        NULL │ 2017-11-25 19:27:10 │ NULL                                                                                                                                                                                                                                                                                                                                                   │              NULL │\n",
      "│     10276 │ morozewiczite               │ synonym       │ NULL                                                               │ (Pb,Fe)3Ge1-xS4                   │ [Fe, Ge, Pb, S]          │ NULL            │ NULL              │ NULL                      │        NULL │ NULL                │ NULL                                                                                                                                                                                                                                                                                                                                                   │              NULL │\n",
      "│     10277 │ grossular garnet            │ synonym       │ NULL                                                               │ Ca3Al2(SiO4)3                     │ [Al, Ca, Si, O]          │ NULL            │ NULL              │ NULL                      │        NULL │ NULL                │ NULL                                                                                                                                                                                                                                                                                                                                                   │              NULL │\n",
      "│     10278 │ andradite garnet            │ synonym       │ NULL                                                               │ Ca3Fe(3+)2(SiO4)3                 │ [Ca, Fe, Si, O]          │ NULL            │ NULL              │ NULL                      │        NULL │ NULL                │ NULL                                                                                                                                                                                                                                                                                                                                                   │              NULL │\n",
      "│     10279 │ uvarovite garnet            │ synonym       │ NULL                                                               │ Ca3Cr2(SiO4)3                     │ [Ca, Cr, Si, O]          │ NULL            │ NULL              │ NULL                      │        NULL │ NULL                │ NULL                                                                                                                                                                                                                                                                                                                                                   │              NULL │\n",
      "├───────────┴─────────────────────────────┴───────────────┴────────────────────────────────────────────────────────────────────┴───────────────────────────────────┴──────────────────────────┴─────────────────┴───────────────────┴───────────────────────────┴─────────────┴─────────────────────┴────────────────────────────────────────────────────────────────────────────────────────────────────────────────────────────────────────────────────────────────────────────────────────────────────────────────────────────────────────────────────────────────────────────────────────────────────────────────────────────────────────────────────────┴───────────────────┤\n",
      "│ ? rows (>9999 rows, 20 shown)                                                                                                                                                                                                                                                                                                                                                                                                                                                                                                                                                                                                                                       13 columns │\n",
      "└────────────────────────────────────────────────────────────────────────────────────────────────────────────────────────────────────────────────────────────────────────────────────────────────────────────────────────────────────────────────────────────────────────────────────────────────────────────────────────────────────────────────────────────────────────────────────────────────────────────────────────────────────────────────────────────────────────────────────────────────────────────────────────────────────────────────────────────────────────────────────────────────────────────────────────────────────────────────────────────────────────────────┘\n",
      "\n"
     ]
    }
   ],
   "source": [
    "with open(os.path.join(QUERIES_DIR,'silver_geomaterials.sql')) as f:\n",
    "  query = f.read()\n",
    "  f.close()\n",
    "\n",
    "silver_geomaterials = duckdb.sql(query)\n",
    "# silver_geomaterials.write_csv(os.path.join(DATA_DIR, \"silver_geomaterials.csv\"), overwrite=True)\n",
    "silver_geomaterials.show(max_width=10000)"
   ]
  },
  {
   "cell_type": "markdown",
   "metadata": {},
   "source": [
    "**TRASH**"
   ]
  },
  {
   "cell_type": "code",
   "execution_count": null,
   "metadata": {},
   "outputs": [],
   "source": [
    "# making a request\n",
    "\n",
    "endpoint = MINDAT_API_URL + \"/geomaterials/\"\n",
    "# interest_cols = ['id','guid','name','colour','entrytype','mindat_formula','occurrence','crystal_system']\n",
    "\n",
    "df_teste = pd.DataFrame()\n",
    "\n",
    "filter_dict = {\n",
    "  'page': 49,\n",
    "  'page_size':10\n",
    "}\n",
    "\n",
    "response = requests.get(endpoint,params=filter_dict,headers=headers)\n",
    "\n",
    "try:\n",
    "  mineral_list = response.json()['results']\n",
    "  print('page', filter_dict['page'], response)\n",
    "  \n",
    "  # data frame handling\n",
    "  print(type(mineral_list))\n",
    "  df_teste = pd.DataFrame.from_dict(mineral_list)\n",
    "\n",
    "except Exception as e:\n",
    "  print('Erro ao tentar criar dataframe!', 'pagina', filter_dict['page'])\n",
    "\n",
    "df_teste.reset_index(inplace=True, drop=True)\n",
    "mineral_list[0]"
   ]
  }
 ],
 "metadata": {
  "kernelspec": {
   "display_name": "env_mindapp",
   "language": "python",
   "name": "python3"
  },
  "language_info": {
   "codemirror_mode": {
    "name": "ipython",
    "version": 3
   },
   "file_extension": ".py",
   "mimetype": "text/x-python",
   "name": "python",
   "nbconvert_exporter": "python",
   "pygments_lexer": "ipython3",
   "version": "3.12.4"
  }
 },
 "nbformat": 4,
 "nbformat_minor": 2
}
